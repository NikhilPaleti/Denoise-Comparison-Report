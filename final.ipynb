{
 "cells": [
  {
   "cell_type": "markdown",
   "metadata": {},
   "source": [
    "Importing all required libraries and functions first"
   ]
  },
  {
   "cell_type": "code",
   "execution_count": 1,
   "metadata": {},
   "outputs": [
    {
     "name": "stdout",
     "output_type": "stream",
     "text": [
      "Defaulting to user installation because normal site-packages is not writeable\n",
      "Requirement already satisfied: bm3d in c:\\users\\nikep\\appdata\\roaming\\python\\python39\\site-packages (3.0.9)\n",
      "Requirement already satisfied: scipy in c:\\users\\nikep\\appdata\\roaming\\python\\python39\\site-packages (from bm3d) (1.7.1)\n",
      "Requirement already satisfied: numpy in c:\\users\\nikep\\appdata\\roaming\\python\\python39\\site-packages (from bm3d) (1.21.2)\n",
      "Requirement already satisfied: PyWavelets in c:\\users\\nikep\\appdata\\roaming\\python\\python39\\site-packages (from bm3d) (1.1.1)\n"
     ]
    }
   ],
   "source": [
    "\n",
    "!pip install bm3d\n",
    "import os\n",
    "import time\n",
    "import bm3d\n",
    "import matplotlib\n",
    "import numpy as np\n",
    "import pandas as pd\n",
    "import matplotlib.pyplot as plt\n",
    "from scipy.signal import convolve2d\n",
    "from skimage.metrics import structural_similarity"
   ]
  },
  {
   "cell_type": "markdown",
   "metadata": {},
   "source": [
    "Defining functions for Artificial Noise-Adding Techniques\n",
    "Gaussian Noise, as defined below"
   ]
  },
  {
   "cell_type": "code",
   "execution_count": 2,
   "metadata": {},
   "outputs": [],
   "source": [
    "# def add_noise(image, sigma=1): #Gaussian noise\n",
    "#     image = image + np.random.normal(0, sigma, image.shape)\n",
    "#     return (image)\n",
    "#     # return (add_blur(image, 3))"
   ]
  },
  {
   "cell_type": "markdown",
   "metadata": {},
   "source": [
    "Defining functions for alternate Artificial Noise Technique\n",
    "Salt 'n Pepper, as below "
   ]
  },
  {
   "cell_type": "code",
   "execution_count": 3,
   "metadata": {},
   "outputs": [],
   "source": [
    "def add_noise(image, sigma=0.1): #Salt-and-Pepper noise\n",
    "    noisy = image.copy()\n",
    "    noisy[np.random.rand(*image.shape) < sigma] = 0\n",
    "    noisy[np.random.rand(*image.shape) < sigma] = 255\n",
    "    return noisy\n",
    "    # return (add_blur(noisy, 3))"
   ]
  },
  {
   "cell_type": "markdown",
   "metadata": {},
   "source": [
    "Defining functions for Testing Methodology - PSNR and SSIM"
   ]
  },
  {
   "cell_type": "code",
   "execution_count": 4,
   "metadata": {},
   "outputs": [],
   "source": [
    "def PSNR (original, processed):\n",
    "    error = np.mean((original - processed)**2)\n",
    "    if error == 0:\n",
    "        return 100\n",
    "    PIXEL_MAX = 255.0\n",
    "    return (20*np.log10(PIXEL_MAX/np.sqrt(error)))\n",
    "\n",
    "def SSIM (original, processed):\n",
    "    return (structural_similarity (original, processed, multichannel=True))"
   ]
  },
  {
   "cell_type": "markdown",
   "metadata": {},
   "source": [
    "Defining functions for Median Filter and conversion of images to grayscale"
   ]
  },
  {
   "cell_type": "code",
   "execution_count": 5,
   "metadata": {},
   "outputs": [],
   "source": [
    "def grayscale(img):\n",
    "\treturn np.dot(img[...,:3], [0.299, 0.587, 0.114])\n",
    "\n",
    "def add_blur(image, kernel_size=3): \n",
    "    kernel = np.ones((kernel_size, kernel_size))/(kernel_size**2)\n",
    "    blurred = convolve2d(image, kernel, mode='same')\n",
    "    return (blurred)\n",
    "\n",
    "def median_filter(data, kernel_size):\n",
    "    temp = []\n",
    "    indexer = kernel_size // 2\n",
    "    data_final = []\n",
    "    data_final = np.zeros((len(data),len(data[0])))\n",
    "    for i in range(len(data)):\n",
    "        for j in range(len(data[0])):\n",
    "            for k in range(kernel_size):\n",
    "                if i + k - indexer < 0 or i + k - indexer > len(data) - 1:\n",
    "                    for c in range(kernel_size):\n",
    "                        temp.append(0)\n",
    "                else:\n",
    "                    if j + k - indexer < 0 or j + indexer > len(data[0]) - 1:\n",
    "                        temp.append(0)\n",
    "                    else:\n",
    "                        for x in range(kernel_size):\n",
    "                            temp.append(data[i + k - indexer][j +  x - indexer])\n",
    "\n",
    "            temp.sort()\n",
    "            data_final[i][j] = temp[len(temp) // 2]\n",
    "            temp = []\n",
    "    return data_final"
   ]
  },
  {
   "cell_type": "markdown",
   "metadata": {},
   "source": [
    "Creating arrays for Image Names/Locations, SSIM, PSNR lists and other processed values"
   ]
  },
  {
   "cell_type": "code",
   "execution_count": 6,
   "metadata": {},
   "outputs": [],
   "source": [
    "images = [\"dataset/pixel.jpg\", \"dataset/1to1.jpg\", \"dataset/fashion.jpg\", \"dataset/lena.jpg\", \"dataset/nature.jpg\", \"dataset/fractal.jpg\", \"dataset/painting.jpg\", \"dataset/food.jpg\"]\n",
    "image_list = []\n",
    "noisy_image_list = []\n",
    "denoised_image_bm3d = []\n",
    "denoised_image_median = []\n",
    "denoised_image_mixed = []\n",
    "\n",
    "psnr_noisy_list = []\n",
    "ssim_noisy_list = []\n",
    "\n",
    "bm3d_times = []\n",
    "bm3d_ssim = []\n",
    "bm3d_psnr = []\n",
    "\n",
    "median_times = []\n",
    "median_ssim = []\n",
    "median_psnr = []\n",
    "\n",
    "mixed_times = []\n",
    "mixed_ssim = []\n",
    "mixed_psnr = []"
   ]
  },
  {
   "cell_type": "markdown",
   "metadata": {},
   "source": [
    "Importing images, converting to grayscale and saving to arrays"
   ]
  },
  {
   "cell_type": "code",
   "execution_count": 7,
   "metadata": {},
   "outputs": [],
   "source": [
    "for image in images:\n",
    "    image = os.path.join(image) \n",
    "    image_list.append(grayscale(plt.imread(image)))\n",
    "\n",
    "for image in image_list:\n",
    "    noisy_image_list.append(add_noise(image, .05))"
   ]
  },
  {
   "cell_type": "markdown",
   "metadata": {},
   "source": [
    "Processing images with Median Filter, BM3D and saving to arrays. \n",
    "Images are also being stored locally."
   ]
  },
  {
   "cell_type": "code",
   "execution_count": 8,
   "metadata": {},
   "outputs": [],
   "source": [
    "count = 1\n",
    "\n",
    "for image in noisy_image_list:\n",
    "    # Processing Median Filter\n",
    "    start = time.time()\n",
    "    denoised = median_filter(image, 3)\n",
    "    end = time.time()\n",
    "    denoised_image_median.append(denoised)\n",
    "    img = os.path.join(\"processed_median/\")\n",
    "    img += str(count)\n",
    "    img+= \".jpg\"\n",
    "    matplotlib.image.imsave(img, denoised, cmap='gray')\n",
    "    median_times.append(end - start)\n",
    "\n",
    "    denoised = 0\n",
    "    \n",
    "    # Processing BM3D\n",
    "    start = time.time()\n",
    "    denoised = bm3d.bm3d(image, sigma_psd=.05, stage_arg=bm3d.BM3DStages.ALL_STAGES)\n",
    "    end = time.time()\n",
    "    denoised_image_bm3d.append(denoised)\n",
    "    img = os.path.join(\"processed_bm3d/\")\n",
    "    img += str(count)\n",
    "    img+= \".jpg\"\n",
    "    matplotlib.image.imsave(img, denoised, cmap='gray')\n",
    "    bm3d_times.append(end - start)\n",
    "\n",
    "    denoised = 0\n",
    "\n",
    "    # Processing Mixed\n",
    "    start = time.time()\n",
    "    denoised = median_filter(image, 3)\n",
    "    denoised = add_blur(denoised, 2)\n",
    "    end = time.time()\n",
    "    denoised_image_mixed.append(denoised)\n",
    "    img = os.path.join(\"processed_mixed/\")\n",
    "    img += str(count)\n",
    "    img+= \".jpg\"\n",
    "    matplotlib.image.imsave(img, denoised, cmap='gray')\n",
    "    mixed_times.append(end - start)\n",
    "\n",
    "    count += 1    "
   ]
  },
  {
   "cell_type": "code",
   "execution_count": 9,
   "metadata": {},
   "outputs": [],
   "source": [
    "# for i in range(len(images)):\n",
    "#     print(image_list[i].shape)\n",
    "#     print(noisy_image_list[i].shape)\n",
    "#     print(denoised_image_bm3d[i].shape)\n",
    "#     print(denoised_image_median[i].shape)\n",
    "#     print(denoised_image_mixed[i].shape)\n",
    "    "
   ]
  },
  {
   "cell_type": "markdown",
   "metadata": {},
   "source": [
    "Processing PSNR, SSIM tests and saving values to arrays"
   ]
  },
  {
   "cell_type": "code",
   "execution_count": 10,
   "metadata": {},
   "outputs": [],
   "source": [
    "for i in range(len(images)):\n",
    "    psnr_noisy_list.append(PSNR(image_list[i], noisy_image_list[i]))\n",
    "    ssim_noisy_list.append(SSIM(image_list[i], noisy_image_list[i]))\n",
    "    bm3d_ssim.append(SSIM(image_list[i], denoised_image_bm3d[i]))\n",
    "    bm3d_psnr.append(PSNR(image_list[i], denoised_image_bm3d[i]))\n",
    "    median_ssim.append(SSIM(image_list[i], denoised_image_median[i]))\n",
    "    median_psnr.append(PSNR(image_list[i], denoised_image_median[i]))\n",
    "    mixed_ssim.append(SSIM(image_list[i], denoised_image_mixed[i]))\n",
    "    mixed_psnr.append(PSNR(image_list[i], denoised_image_mixed[i]))"
   ]
  },
  {
   "cell_type": "code",
   "execution_count": 11,
   "metadata": {},
   "outputs": [
    {
     "name": "stdout",
     "output_type": "stream",
     "text": [
      "pixel 0\n",
      "1to1 1\n",
      "fashion 2\n",
      "lena 3\n",
      "nature 4\n",
      "fractal 5\n",
      "painting 6\n",
      "food 7\n"
     ]
    }
   ],
   "source": [
    "for i in range(len(images)):\n",
    "    images[i] = images[i].replace(\"dataset/\", \"\")\n",
    "    images[i] = images[i].replace(\".jpg\", \"\")\n",
    "\n",
    "for i in range (len(images)):\n",
    "    print(images[i], i )"
   ]
  },
  {
   "cell_type": "markdown",
   "metadata": {},
   "source": [
    "Plotting PSNR Graphs for the two filters and in noisy state"
   ]
  },
  {
   "cell_type": "code",
   "execution_count": 12,
   "metadata": {},
   "outputs": [
    {
     "data": {
      "image/png": "[encoded data removed]",
      "text/plain": [
       "<Figure size 432x288 with 1 Axes>"
      ]
     },
     "metadata": {
      "needs_background": "light"
     },
     "output_type": "display_data"
    }
   ],
   "source": [
    "plt.plot(images, psnr_noisy_list, label=\"PSNR Noisy\")\n",
    "plt.plot(images, bm3d_psnr, label=\"PSNR BM3D\")\n",
    "plt.plot(images, median_psnr, label=\"PSNR Median\")\n",
    "plt.plot(images, mixed_psnr, label=\"PSNR Mixed\")\n",
    "\n",
    "plt.xlabel(\"Images\")\n",
    "plt.ylabel(\"PSNR\")\n",
    "\n",
    "plt.title(\"PSNR Comparison\")\n",
    "plt.legend()\n",
    "plt.show()"
   ]
  },
  {
   "cell_type": "markdown",
   "metadata": {},
   "source": [
    "Plotting SSIM Graphs for the two filters and in noisy state"
   ]
  },
  {
   "cell_type": "code",
   "execution_count": 13,
   "metadata": {},
   "outputs": [
    {
     "data": {
      "image/png": "[encoded data removed]",
      "text/plain": [
       "<Figure size 432x288 with 1 Axes>"
      ]
     },
     "metadata": {
      "needs_background": "light"
     },
     "output_type": "display_data"
    }
   ],
   "source": [
    "plt.plot(images, ssim_noisy_list, label=\"SSIM Noisy\")\n",
    "plt.plot(images, bm3d_ssim, label=\"SSIM BM3D\")\n",
    "plt.plot(images, median_ssim, label=\"SSIM Median\")\n",
    "plt.plot(images, mixed_ssim, label=\"SSIM Mixed\")\n",
    "\n",
    "plt.xlabel(\"Images\")\n",
    "plt.ylabel(\"SSIM\")\n",
    "\n",
    "plt.title(\"SSIM Comparison\")\n",
    "plt.legend()\n",
    "plt.show()"
   ]
  },
  {
   "cell_type": "markdown",
   "metadata": {},
   "source": [
    "Plotting Time Graphs for the two filters and in noisy state"
   ]
  },
  {
   "cell_type": "code",
   "execution_count": 14,
   "metadata": {},
   "outputs": [
    {
     "data": {
      "image/png": "[encoded data removed]",
      "text/plain": [
       "<Figure size 432x288 with 1 Axes>"
      ]
     },
     "metadata": {
      "needs_background": "light"
     },
     "output_type": "display_data"
    }
   ],
   "source": [
    "plt.plot(images, bm3d_times, label=\"BM3D\")\n",
    "plt.plot(images, median_times, label=\"Median\")\n",
    "plt.plot(images, mixed_times, label=\"Mixed\")\n",
    "\n",
    "plt.xlabel(\"Images\")\n",
    "plt.ylabel(\"Time\")\n",
    "\n",
    "plt.title(\"Time Comparison\")\n",
    "plt.legend()\n",
    "plt.show()"
   ]
  },
  {
   "cell_type": "markdown",
   "metadata": {},
   "source": [
    "% improvement of Median over BM3D"
   ]
  },
  {
   "cell_type": "code",
   "execution_count": 15,
   "metadata": {},
   "outputs": [
    {
     "name": "stdout",
     "output_type": "stream",
     "text": [
      "[71.11407934123537, 95.9873920372628, 114.4519630907011, 107.75483567599122, 120.04914811144849, 39.032761431516164, 52.96260091470126, 70.3725930655454]\n",
      "[40.22638301912055, 36.22815742606229, 1.8818565765782918, 4.941993283982364, 9.767259332223878, -26.000637908768255, -28.060499749202965, 34.33516703020955]\n",
      "[56.4754187106587, 55.304371745628345, 54.74640732340171, 53.654737459203304, 55.29370539081195, 56.67086706390868, 51.99856902067139, 53.11740212697495]\n"
     ]
    }
   ],
   "source": [
    "improvement_psnr = []\n",
    "improvement_ssim = []\n",
    "improvement_time = []\n",
    "\n",
    "for i in range(len(images)):\n",
    "    improvement_psnr.append((median_psnr[i] - bm3d_psnr[i])/bm3d_psnr[i]*100)\n",
    "    improvement_ssim.append((median_ssim[i] - bm3d_ssim[i])/bm3d_ssim[i]*100)\n",
    "    improvement_time.append((bm3d_times[i] - median_times[i])/median_times[i]*100)\n",
    "\n",
    "print(improvement_psnr)\n",
    "print(improvement_ssim)\n",
    "print(improvement_time)"
   ]
  }
 ],
 "metadata": {
  "interpreter": {
   "hash": "ac59ebe37160ed0dfa835113d9b8498d9f09ceb179beaac4002f036b9467c963"
  },
  "kernelspec": {
   "display_name": "Python 3.9.4 64-bit",
   "language": "python",
   "name": "python3"
  },
  "language_info": {
   "codemirror_mode": {
    "name": "ipython",
    "version": 3
   },
   "file_extension": ".py",
   "mimetype": "text/x-python",
   "name": "python",
   "nbconvert_exporter": "python",
   "pygments_lexer": "ipython3",
   "version": "3.9.4"
  },
  "orig_nbformat": 4
 },
 "nbformat": 4,
 "nbformat_minor": 2
}
